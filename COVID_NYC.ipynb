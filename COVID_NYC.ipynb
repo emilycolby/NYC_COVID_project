{
 "cells": [
  {
   "cell_type": "markdown",
   "metadata": {},
   "source": [
    "# Analyzing New York City (NYC) COVID-19 Mortality Data by Borough\n",
    "## Description to go here tbd"
   ]
  },
  {
   "cell_type": "code",
   "execution_count": 1,
   "metadata": {},
   "outputs": [],
   "source": [
    "import pandas as pd\n",
    "import matplotlib as plt\n",
    "import numpy as np"
   ]
  },
  {
   "cell_type": "markdown",
   "metadata": {},
   "source": [
    "**Import and run NYC_COVID-19_Mortality.py script**"
   ]
  },
  {
   "cell_type": "code",
   "execution_count": 2,
   "metadata": {},
   "outputs": [
    {
     "name": "stdout",
     "output_type": "stream",
     "text": [
      "         Borough  COVID-19 Death Count  2020 Total Population  \\\n",
      "0      Manhattan                6189.0                1694251   \n",
      "1          Bronx                8528.0                1472654   \n",
      "2       Brooklyn               14267.0                2736074   \n",
      "3         Queens               13465.0                2405464   \n",
      "4  Staten Island                2751.0                 495747   \n",
      "5       Citywide               45200.0                8804190   \n",
      "\n",
      "   Mortality Rate (per 1,000 population)  \n",
      "0                               3.652942  \n",
      "1                               5.790905  \n",
      "2                               5.214406  \n",
      "3                               5.597673  \n",
      "4                               5.549202  \n",
      "5                               5.133919  \n"
     ]
    },
    {
     "name": "stderr",
     "output_type": "stream",
     "text": [
      "/Users/emily/code/NYC_COVID_project/NYC_COVID-19_Mortality.py:68: FutureWarning: The frame.append method is deprecated and will be removed from pandas in a future version. Use pandas.concat instead.\n",
      "  nyc_census = nyc_census.append(new_pop_row, ignore_index=True)\n"
     ]
    }
   ],
   "source": [
    "%run NYC_COVID-19_Mortality.py"
   ]
  },
  {
   "cell_type": "code",
   "execution_count": 3,
   "metadata": {},
   "outputs": [
    {
     "data": {
      "text/html": [
       "<div>\n",
       "<style scoped>\n",
       "    .dataframe tbody tr th:only-of-type {\n",
       "        vertical-align: middle;\n",
       "    }\n",
       "\n",
       "    .dataframe tbody tr th {\n",
       "        vertical-align: top;\n",
       "    }\n",
       "\n",
       "    .dataframe thead th {\n",
       "        text-align: right;\n",
       "    }\n",
       "</style>\n",
       "<table border=\"1\" class=\"dataframe\">\n",
       "  <thead>\n",
       "    <tr style=\"text-align: right;\">\n",
       "      <th></th>\n",
       "      <th>Borough</th>\n",
       "      <th>COVID-19 Death Count</th>\n",
       "      <th>2020 Total Population</th>\n",
       "      <th>Mortality Rate (per 1,000 population)</th>\n",
       "    </tr>\n",
       "  </thead>\n",
       "  <tbody>\n",
       "    <tr>\n",
       "      <th>0</th>\n",
       "      <td>Manhattan</td>\n",
       "      <td>6189.0</td>\n",
       "      <td>1694251</td>\n",
       "      <td>3.652942</td>\n",
       "    </tr>\n",
       "    <tr>\n",
       "      <th>1</th>\n",
       "      <td>Bronx</td>\n",
       "      <td>8528.0</td>\n",
       "      <td>1472654</td>\n",
       "      <td>5.790905</td>\n",
       "    </tr>\n",
       "    <tr>\n",
       "      <th>2</th>\n",
       "      <td>Brooklyn</td>\n",
       "      <td>14267.0</td>\n",
       "      <td>2736074</td>\n",
       "      <td>5.214406</td>\n",
       "    </tr>\n",
       "    <tr>\n",
       "      <th>3</th>\n",
       "      <td>Queens</td>\n",
       "      <td>13465.0</td>\n",
       "      <td>2405464</td>\n",
       "      <td>5.597673</td>\n",
       "    </tr>\n",
       "    <tr>\n",
       "      <th>4</th>\n",
       "      <td>Staten Island</td>\n",
       "      <td>2751.0</td>\n",
       "      <td>495747</td>\n",
       "      <td>5.549202</td>\n",
       "    </tr>\n",
       "    <tr>\n",
       "      <th>5</th>\n",
       "      <td>Citywide</td>\n",
       "      <td>45200.0</td>\n",
       "      <td>8804190</td>\n",
       "      <td>5.133919</td>\n",
       "    </tr>\n",
       "  </tbody>\n",
       "</table>\n",
       "</div>"
      ],
      "text/plain": [
       "         Borough  COVID-19 Death Count  2020 Total Population  \\\n",
       "0      Manhattan                6189.0                1694251   \n",
       "1          Bronx                8528.0                1472654   \n",
       "2       Brooklyn               14267.0                2736074   \n",
       "3         Queens               13465.0                2405464   \n",
       "4  Staten Island                2751.0                 495747   \n",
       "5       Citywide               45200.0                8804190   \n",
       "\n",
       "   Mortality Rate (per 1,000 population)  \n",
       "0                               3.652942  \n",
       "1                               5.790905  \n",
       "2                               5.214406  \n",
       "3                               5.597673  \n",
       "4                               5.549202  \n",
       "5                               5.133919  "
      ]
     },
     "execution_count": 3,
     "metadata": {},
     "output_type": "execute_result"
    }
   ],
   "source": [
    "# View Mortality Rates for each borough and citywide in a dataframe\n",
    "death_census_data_combined"
   ]
  },
  {
   "cell_type": "code",
   "execution_count": null,
   "metadata": {},
   "outputs": [],
   "source": []
  }
 ],
 "metadata": {
  "kernelspec": {
   "display_name": "Python 3 (ipykernel)",
   "language": "python",
   "name": "python3"
  },
  "language_info": {
   "codemirror_mode": {
    "name": "ipython",
    "version": 3
   },
   "file_extension": ".py",
   "mimetype": "text/x-python",
   "name": "python",
   "nbconvert_exporter": "python",
   "pygments_lexer": "ipython3",
   "version": "3.9.12"
  }
 },
 "nbformat": 4,
 "nbformat_minor": 2
}
