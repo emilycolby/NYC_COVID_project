{
 "cells": [
  {
   "cell_type": "markdown",
   "metadata": {},
   "source": [
    "# Analyzing New York City (NYC) COVID-19 Mortality Data by Borough\n",
    "## Description to go here tbd"
   ]
  },
  {
   "cell_type": "code",
   "execution_count": 29,
   "metadata": {},
   "outputs": [],
   "source": [
    "import pandas as pd\n",
    "import matplotlib as plt\n",
    "import matplotlib.pyplot as plt\n",
    "import numpy as np"
   ]
  },
  {
   "cell_type": "markdown",
   "metadata": {},
   "source": [
    "**Import and run NYC_COVID-19_Mortality.py script**"
   ]
  },
  {
   "cell_type": "code",
   "execution_count": 4,
   "metadata": {},
   "outputs": [
    {
     "name": "stdout",
     "output_type": "stream",
     "text": [
      "         Borough  COVID-19 Death Count  2020 Total Population  \\\n",
      "0      Manhattan                6189.0                1694251   \n",
      "1          Bronx                8528.0                1472654   \n",
      "2       Brooklyn               14267.0                2736074   \n",
      "3         Queens               13465.0                2405464   \n",
      "4  Staten Island                2751.0                 495747   \n",
      "5       Citywide               45200.0                8804190   \n",
      "\n",
      "   Mortality Rate (per 1,000 population)  \n",
      "0                               3.652942  \n",
      "1                               5.790905  \n",
      "2                               5.214406  \n",
      "3                               5.597673  \n",
      "4                               5.549202  \n",
      "5                               5.133919  \n"
     ]
    },
    {
     "name": "stderr",
     "output_type": "stream",
     "text": [
      "/Users/emily/code/NYC_COVID_project/NYC_COVID-19_Mortality.py:68: FutureWarning: The frame.append method is deprecated and will be removed from pandas in a future version. Use pandas.concat instead.\n",
      "  nyc_census = nyc_census.append(new_pop_row, ignore_index=True)\n"
     ]
    }
   ],
   "source": [
    "%run NYC_COVID-19_Mortality.py"
   ]
  },
  {
   "cell_type": "code",
   "execution_count": 5,
   "metadata": {},
   "outputs": [
    {
     "data": {
      "text/html": [
       "<div>\n",
       "<style scoped>\n",
       "    .dataframe tbody tr th:only-of-type {\n",
       "        vertical-align: middle;\n",
       "    }\n",
       "\n",
       "    .dataframe tbody tr th {\n",
       "        vertical-align: top;\n",
       "    }\n",
       "\n",
       "    .dataframe thead th {\n",
       "        text-align: right;\n",
       "    }\n",
       "</style>\n",
       "<table border=\"1\" class=\"dataframe\">\n",
       "  <thead>\n",
       "    <tr style=\"text-align: right;\">\n",
       "      <th></th>\n",
       "      <th>Borough</th>\n",
       "      <th>COVID-19 Death Count</th>\n",
       "      <th>2020 Total Population</th>\n",
       "      <th>Mortality Rate (per 1,000 population)</th>\n",
       "    </tr>\n",
       "  </thead>\n",
       "  <tbody>\n",
       "    <tr>\n",
       "      <th>0</th>\n",
       "      <td>Manhattan</td>\n",
       "      <td>6189.0</td>\n",
       "      <td>1694251</td>\n",
       "      <td>3.652942</td>\n",
       "    </tr>\n",
       "    <tr>\n",
       "      <th>1</th>\n",
       "      <td>Bronx</td>\n",
       "      <td>8528.0</td>\n",
       "      <td>1472654</td>\n",
       "      <td>5.790905</td>\n",
       "    </tr>\n",
       "    <tr>\n",
       "      <th>2</th>\n",
       "      <td>Brooklyn</td>\n",
       "      <td>14267.0</td>\n",
       "      <td>2736074</td>\n",
       "      <td>5.214406</td>\n",
       "    </tr>\n",
       "    <tr>\n",
       "      <th>3</th>\n",
       "      <td>Queens</td>\n",
       "      <td>13465.0</td>\n",
       "      <td>2405464</td>\n",
       "      <td>5.597673</td>\n",
       "    </tr>\n",
       "    <tr>\n",
       "      <th>4</th>\n",
       "      <td>Staten Island</td>\n",
       "      <td>2751.0</td>\n",
       "      <td>495747</td>\n",
       "      <td>5.549202</td>\n",
       "    </tr>\n",
       "    <tr>\n",
       "      <th>5</th>\n",
       "      <td>Citywide</td>\n",
       "      <td>45200.0</td>\n",
       "      <td>8804190</td>\n",
       "      <td>5.133919</td>\n",
       "    </tr>\n",
       "  </tbody>\n",
       "</table>\n",
       "</div>"
      ],
      "text/plain": [
       "         Borough  COVID-19 Death Count  2020 Total Population  \\\n",
       "0      Manhattan                6189.0                1694251   \n",
       "1          Bronx                8528.0                1472654   \n",
       "2       Brooklyn               14267.0                2736074   \n",
       "3         Queens               13465.0                2405464   \n",
       "4  Staten Island                2751.0                 495747   \n",
       "5       Citywide               45200.0                8804190   \n",
       "\n",
       "   Mortality Rate (per 1,000 population)  \n",
       "0                               3.652942  \n",
       "1                               5.790905  \n",
       "2                               5.214406  \n",
       "3                               5.597673  \n",
       "4                               5.549202  \n",
       "5                               5.133919  "
      ]
     },
     "execution_count": 5,
     "metadata": {},
     "output_type": "execute_result"
    }
   ],
   "source": [
    "# View Mortality Rates for each borough and citywide in a dataframe\n",
    "death_census_data_combined"
   ]
  },
  {
   "cell_type": "code",
   "execution_count": 41,
   "metadata": {},
   "outputs": [
    {
     "data": {
      "text/html": [
       "<div>\n",
       "<style scoped>\n",
       "    .dataframe tbody tr th:only-of-type {\n",
       "        vertical-align: middle;\n",
       "    }\n",
       "\n",
       "    .dataframe tbody tr th {\n",
       "        vertical-align: top;\n",
       "    }\n",
       "\n",
       "    .dataframe thead th {\n",
       "        text-align: right;\n",
       "    }\n",
       "</style>\n",
       "<table border=\"1\" class=\"dataframe\">\n",
       "  <thead>\n",
       "    <tr style=\"text-align: right;\">\n",
       "      <th></th>\n",
       "      <th>date_of_interest</th>\n",
       "      <th>DEATH_COUNT</th>\n",
       "      <th>BX_DEATH_COUNT</th>\n",
       "      <th>BK_DEATH_COUNT</th>\n",
       "      <th>MN_DEATH_COUNT</th>\n",
       "      <th>QN_DEATH_COUNT</th>\n",
       "      <th>SI_DEATH_COUNT</th>\n",
       "    </tr>\n",
       "  </thead>\n",
       "  <tbody>\n",
       "    <tr>\n",
       "      <th>0</th>\n",
       "      <td>02/29/2020</td>\n",
       "      <td>0</td>\n",
       "      <td>0</td>\n",
       "      <td>0</td>\n",
       "      <td>0</td>\n",
       "      <td>0</td>\n",
       "      <td>0</td>\n",
       "    </tr>\n",
       "    <tr>\n",
       "      <th>7</th>\n",
       "      <td>03/07/2020</td>\n",
       "      <td>0</td>\n",
       "      <td>0</td>\n",
       "      <td>0</td>\n",
       "      <td>0</td>\n",
       "      <td>0</td>\n",
       "      <td>0</td>\n",
       "    </tr>\n",
       "    <tr>\n",
       "      <th>14</th>\n",
       "      <td>03/14/2020</td>\n",
       "      <td>3</td>\n",
       "      <td>0</td>\n",
       "      <td>1</td>\n",
       "      <td>1</td>\n",
       "      <td>1</td>\n",
       "      <td>0</td>\n",
       "    </tr>\n",
       "    <tr>\n",
       "      <th>21</th>\n",
       "      <td>03/21/2020</td>\n",
       "      <td>51</td>\n",
       "      <td>14</td>\n",
       "      <td>14</td>\n",
       "      <td>6</td>\n",
       "      <td>14</td>\n",
       "      <td>3</td>\n",
       "    </tr>\n",
       "    <tr>\n",
       "      <th>28</th>\n",
       "      <td>03/28/2020</td>\n",
       "      <td>323</td>\n",
       "      <td>74</td>\n",
       "      <td>92</td>\n",
       "      <td>34</td>\n",
       "      <td>109</td>\n",
       "      <td>14</td>\n",
       "    </tr>\n",
       "    <tr>\n",
       "      <th>...</th>\n",
       "      <td>...</td>\n",
       "      <td>...</td>\n",
       "      <td>...</td>\n",
       "      <td>...</td>\n",
       "      <td>...</td>\n",
       "      <td>...</td>\n",
       "      <td>...</td>\n",
       "    </tr>\n",
       "    <tr>\n",
       "      <th>1141</th>\n",
       "      <td>04/15/2023</td>\n",
       "      <td>2</td>\n",
       "      <td>1</td>\n",
       "      <td>0</td>\n",
       "      <td>0</td>\n",
       "      <td>1</td>\n",
       "      <td>0</td>\n",
       "    </tr>\n",
       "    <tr>\n",
       "      <th>1148</th>\n",
       "      <td>04/22/2023</td>\n",
       "      <td>1</td>\n",
       "      <td>0</td>\n",
       "      <td>0</td>\n",
       "      <td>0</td>\n",
       "      <td>1</td>\n",
       "      <td>0</td>\n",
       "    </tr>\n",
       "    <tr>\n",
       "      <th>1155</th>\n",
       "      <td>04/29/2023</td>\n",
       "      <td>1</td>\n",
       "      <td>0</td>\n",
       "      <td>0</td>\n",
       "      <td>1</td>\n",
       "      <td>0</td>\n",
       "      <td>0</td>\n",
       "    </tr>\n",
       "    <tr>\n",
       "      <th>1162</th>\n",
       "      <td>05/06/2023</td>\n",
       "      <td>1</td>\n",
       "      <td>1</td>\n",
       "      <td>0</td>\n",
       "      <td>0</td>\n",
       "      <td>0</td>\n",
       "      <td>0</td>\n",
       "    </tr>\n",
       "    <tr>\n",
       "      <th>1169</th>\n",
       "      <td>05/13/2023</td>\n",
       "      <td>1</td>\n",
       "      <td>0</td>\n",
       "      <td>0</td>\n",
       "      <td>0</td>\n",
       "      <td>0</td>\n",
       "      <td>1</td>\n",
       "    </tr>\n",
       "  </tbody>\n",
       "</table>\n",
       "<p>168 rows × 7 columns</p>\n",
       "</div>"
      ],
      "text/plain": [
       "     date_of_interest  DEATH_COUNT  BX_DEATH_COUNT  BK_DEATH_COUNT  \\\n",
       "0          02/29/2020            0               0               0   \n",
       "7          03/07/2020            0               0               0   \n",
       "14         03/14/2020            3               0               1   \n",
       "21         03/21/2020           51              14              14   \n",
       "28         03/28/2020          323              74              92   \n",
       "...               ...          ...             ...             ...   \n",
       "1141       04/15/2023            2               1               0   \n",
       "1148       04/22/2023            1               0               0   \n",
       "1155       04/29/2023            1               0               0   \n",
       "1162       05/06/2023            1               1               0   \n",
       "1169       05/13/2023            1               0               0   \n",
       "\n",
       "      MN_DEATH_COUNT  QN_DEATH_COUNT  SI_DEATH_COUNT  \n",
       "0                  0               0               0  \n",
       "7                  0               0               0  \n",
       "14                 1               1               0  \n",
       "21                 6              14               3  \n",
       "28                34             109              14  \n",
       "...              ...             ...             ...  \n",
       "1141               0               1               0  \n",
       "1148               0               1               0  \n",
       "1155               1               0               0  \n",
       "1162               0               0               0  \n",
       "1169               0               0               1  \n",
       "\n",
       "[168 rows x 7 columns]"
      ]
     },
     "execution_count": 41,
     "metadata": {},
     "output_type": "execute_result"
    }
   ],
   "source": [
    "deaths_by_day\n",
    "deaths_by_week = np.arange(0, 1172, 7)\n",
    "weekly_deaths = deaths_by_day.iloc[deaths_by_week]\n",
    "weekly_deaths"
   ]
  },
  {
   "cell_type": "code",
   "execution_count": 22,
   "metadata": {},
   "outputs": [
    {
     "name": "stdout",
     "output_type": "stream",
     "text": [
      "date_of_interest    03/11/2020\n",
      "DEATH_COUNT                  1\n",
      "BX_DEATH_COUNT               0\n",
      "BK_DEATH_COUNT               0\n",
      "MN_DEATH_COUNT               0\n",
      "QN_DEATH_COUNT               1\n",
      "SI_DEATH_COUNT               0\n",
      "Name: 11, dtype: object\n"
     ]
    }
   ],
   "source": [
    "first_death = deaths_by_day[deaths_by_day.iloc[:, 1] > 0].index[0]\n",
    "first_death\n",
    "print(deaths_by_day.iloc[11])"
   ]
  },
  {
   "cell_type": "code",
   "execution_count": 54,
   "metadata": {},
   "outputs": [
    {
     "data": {
      "image/png": "[encoded data removed]",
      "text/plain": [
       "<Figure size 864x432 with 1 Axes>"
      ]
     },
     "metadata": {
      "needs_background": "light"
     },
     "output_type": "display_data"
    }
   ],
   "source": [
    "weekly_deaths.plot(x = 'date_of_interest', y = ['DEATH_COUNT','BX_DEATH_COUNT','BK_DEATH_COUNT','MN_DEATH_COUNT','QN_DEATH_COUNT','SI_DEATH_COUNT'], kind='line', figsize = (12,6))\n",
    "\n",
    "# Add labels and title\n",
    "plt.xticks(rotation=45)\n",
    "plt.xlabel('Week Start Date')\n",
    "plt.ylabel('Number of Recorded Deaths')\n",
    "# Display the plot\n",
    "plt.show()"
   ]
  }
 ],
 "metadata": {
  "kernelspec": {
   "display_name": "Python 3 (ipykernel)",
   "language": "python",
   "name": "python3"
  },
  "language_info": {
   "codemirror_mode": {
    "name": "ipython",
    "version": 3
   },
   "file_extension": ".py",
   "mimetype": "text/x-python",
   "name": "python",
   "nbconvert_exporter": "python",
   "pygments_lexer": "ipython3",
   "version": "3.9.12"
  }
 },
 "nbformat": 4,
 "nbformat_minor": 2
}
